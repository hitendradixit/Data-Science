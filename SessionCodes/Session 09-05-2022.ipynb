{
 "cells": [
  {
   "cell_type": "markdown",
   "metadata": {},
   "source": [
    "If statement"
   ]
  },
  {
   "cell_type": "code",
   "execution_count": 2,
   "metadata": {},
   "outputs": [
    {
     "name": "stdout",
     "output_type": "stream",
     "text": [
      "Code executed\n"
     ]
    }
   ],
   "source": [
    "n = int(input(\"Enter a number: \"))\n",
    "if( n % 2 == 0 ): #if this is true then only it will enter the if block or else it will skip it\n",
    "    print(\"The number is even\") #will be executed only when the number is true\n",
    "print(\"Code executed\")"
   ]
  },
  {
   "cell_type": "markdown",
   "metadata": {},
   "source": [
    "If Else statement"
   ]
  },
  {
   "cell_type": "code",
   "execution_count": 3,
   "metadata": {},
   "outputs": [
    {
     "name": "stdout",
     "output_type": "stream",
     "text": [
      "The number is odd\n",
      "Code executed\n"
     ]
    }
   ],
   "source": [
    "n = int(input(\"Enter a number: \"))\n",
    "if( n % 2 == 0 ): #if this is true then only it will enter the if block or else it will skip it\n",
    "    print(\"The number is even\") #will be executed only when the number is true\n",
    "else:\n",
    "    print(\"The number is odd\")\n",
    "print(\"Code executed\")"
   ]
  },
  {
   "cell_type": "markdown",
   "metadata": {},
   "source": [
    "If else if statement"
   ]
  },
  {
   "cell_type": "code",
   "execution_count": 7,
   "metadata": {},
   "outputs": [
    {
     "name": "stdout",
     "output_type": "stream",
     "text": [
      "You are not eligible to drive\n"
     ]
    }
   ],
   "source": [
    "age = int(input(\"Enter your age: \"))\n",
    "if( age < 18):\n",
    "    print(\"You are not eleigible to drive\")\n",
    "\n",
    "elif(age >= 18 and age <= 60):\n",
    "    print(\"You are eligible to drive\")\n",
    "\n",
    "else:\n",
    "    print(\"You are not eligible to drive\")"
   ]
  },
  {
   "cell_type": "markdown",
   "metadata": {},
   "source": [
    "Nested if"
   ]
  },
  {
   "cell_type": "code",
   "execution_count": 11,
   "metadata": {},
   "outputs": [
    {
     "name": "stdout",
     "output_type": "stream",
     "text": [
      "2000 is a century year as well as leap year\n"
     ]
    }
   ],
   "source": [
    "year = int(input(\"Enter the year: \"))\n",
    "if(year % 100 == 0):\n",
    "    if(year % 400 == 0):\n",
    "        print(f\"{year} is a century year as well as leap year\")\n",
    "    else:\n",
    "        print(f\"{year} is a century year only\")\n",
    "else:\n",
    "    if(year % 4 == 0):\n",
    "        print(f\"{year} is a leap year\")\n",
    "    else:\n",
    "        print(f\"{year} is not a leap year\")"
   ]
  },
  {
   "cell_type": "code",
   "execution_count": 13,
   "metadata": {},
   "outputs": [
    {
     "name": "stdout",
     "output_type": "stream",
     "text": [
      "2000 is a century year as well as leap year\n"
     ]
    }
   ],
   "source": [
    "year = int(input(\"Enter the year: \"))\n",
    "if(year % 100 == 0 and year % 400 != 0):\n",
    "    print(\"The year is century year\")\n",
    "elif(year % 400 == 0):\n",
    "    print(f\"{year} is a century year as well as leap year\")\n",
    "elif(year % 100 != 0 and year % 4 == 0):\n",
    "    print(f\"{year} is a leap year\")\n",
    "else:\n",
    "    print(f\"{year} is not a leap year\")"
   ]
  },
  {
   "cell_type": "markdown",
   "metadata": {},
   "source": [
    "While loop"
   ]
  },
  {
   "cell_type": "code",
   "execution_count": 29,
   "metadata": {},
   "outputs": [
    {
     "name": "stdout",
     "output_type": "stream",
     "text": [
      "Loop executed for 1 time\n",
      "Loop executed for 2 time\n",
      "Loop executed for 3 time\n"
     ]
    }
   ],
   "source": [
    "#we use while loop when we don't know how many times the loop is going to be executed\n",
    "#so while loop works until a condition fails\n",
    "n = int(input(\"Enter number of times you want the loop to be executed: \"))\n",
    "i = 0 #initilization\n",
    "#condition\n",
    "while(i <= n): #loop will go from i to n+1 but for (i < n ) condition it'll go from i to n \n",
    "    print(f\"Loop executed for {i + 1} time\") #statement\n",
    "    i += 1 #updation"
   ]
  },
  {
   "cell_type": "markdown",
   "metadata": {},
   "source": [
    "For Loop"
   ]
  },
  {
   "cell_type": "code",
   "execution_count": 22,
   "metadata": {},
   "outputs": [
    {
     "name": "stdout",
     "output_type": "stream",
     "text": [
      "The digit taken out is 6 and the remaining digits are 45\n",
      "The digit taken out is 5 and the remaining digits are 4\n",
      "The digit taken out is 4 and the remaining digits are 0\n",
      "The sum of digits of 456 is = 15\n"
     ]
    }
   ],
   "source": [
    "#sum of digits\n",
    "n = int(input(\"Enter the number: \"))\n",
    "#546 = 5 + 4 + 6\n",
    "sum = 0\n",
    "n1 = n\n",
    "while (n1 > 0):\n",
    "    a = n1 % 10 #will give the last digit of the number\n",
    "    sum += a\n",
    "    n1 //= 10 #this will give the remaining digits after removing the last digit\n",
    "    print(f\"The digit taken out is {a} and the remaining digits are {n1}\")\n",
    "print(f\"The sum of digits of {n} is = {sum}\")\n",
    "    "
   ]
  },
  {
   "cell_type": "code",
   "execution_count": 24,
   "metadata": {},
   "outputs": [
    {
     "name": "stdout",
     "output_type": "stream",
     "text": [
      "0\n",
      "1\n",
      "2\n",
      "3\n",
      "4\n"
     ]
    }
   ],
   "source": [
    "#we use for loop when we know how many times the loop is going to be executed\n",
    "n = int(input(\"Enter the number: \"))\n",
    "for i in range(n): #loop will go from 0 to n-1\n",
    "    print(i)"
   ]
  },
  {
   "cell_type": "markdown",
   "metadata": {},
   "source": [
    "break statement -- \n",
    "we use this statement to come out of a loop"
   ]
  },
  {
   "cell_type": "code",
   "execution_count": 40,
   "metadata": {},
   "outputs": [
    {
     "name": "stdout",
     "output_type": "stream",
     "text": [
      "Loop executed and no. not lies between 0 and 50\n"
     ]
    }
   ],
   "source": [
    "n = int(input(\"Enter the number you want to search\"))\n",
    "for i in range(50):\n",
    "    if( i == n):\n",
    "        print(f\"{n} lies between 0 and 50\")\n",
    "        break\n",
    "    #print(i)\n",
    "else: #this else is for the \"for\" loop when the loop terminates because of break statement this else will not be executed\n",
    "    print(\"Loop executed and no. not lies between 0 and 50\")"
   ]
  },
  {
   "cell_type": "markdown",
   "metadata": {},
   "source": [
    "continue statement -- this will skip that part were the condition matches and we are using this continue statement in other words this will pass on that part"
   ]
  },
  {
   "cell_type": "code",
   "execution_count": 42,
   "metadata": {},
   "outputs": [
    {
     "name": "stdout",
     "output_type": "stream",
     "text": [
      "0\n",
      "1\n",
      "2\n",
      "3\n",
      "4\n",
      "this step has been skipped\n",
      "6\n",
      "7\n",
      "8\n",
      "9\n"
     ]
    }
   ],
   "source": [
    "n = int(input(\"Enter the number you want to search\"))\n",
    "for i in range(10):\n",
    "    if( i == n):\n",
    "        print(\"this step has been skipped\")\n",
    "        continue #this will skip the step if i = n \n",
    "    print(i)\n"
   ]
  },
  {
   "cell_type": "markdown",
   "metadata": {},
   "source": [
    "List - sequence of multiple values of same or different datatypes or different sequence of multiple values"
   ]
  },
  {
   "cell_type": "code",
   "execution_count": 48,
   "metadata": {},
   "outputs": [
    {
     "name": "stdout",
     "output_type": "stream",
     "text": [
      "['Mango', 'Kiwi', 'Apple', 'Banana', 2, 4, ['Milk', 'Butter'], 2.3, (4, 5), 'Samsung', 'Apple inc.', 'Amazon', 'Walmart', ['Flipkart', 'Lenovo', 'Acer']]\n"
     ]
    }
   ],
   "source": [
    "list1 = [\"Mango\", \"Apple\", \"Banana\", 2, 4, [\"Milk\", \"Butter\"], 2.3]\n",
    "list1.append((4,5)) #adds the tuple at the end of the list\n",
    "list1.insert(1,\"Kiwi\") #will insert kiwi at 2nd position it'll not replace the value at 2nd position\n",
    "list2 = [\"Samsung\",\"Apple inc.\", \"Amazon\", \"Walmart\"]\n",
    "list1.extend(list2) #will add the elements of list2 to list1 at the end\n",
    "list1.append([\"Flipkart\", \"Lenovo\", \"Acer\"])\n",
    "print(list1)"
   ]
  },
  {
   "cell_type": "code",
   "execution_count": 54,
   "metadata": {},
   "outputs": [
    {
     "name": "stdout",
     "output_type": "stream",
     "text": [
      "[88, 76, 56, 45, 23, 21, 13, 12, 9]\n"
     ]
    }
   ],
   "source": [
    "list2 = [23,45,21,12,13,56,76,88,9]\n",
    "list2.sort(reverse=True) #in desc order, given that datatype of elemenst is same\n",
    "print(list2)"
   ]
  },
  {
   "cell_type": "markdown",
   "metadata": {},
   "source": [
    "Traverse through a list"
   ]
  },
  {
   "cell_type": "code",
   "execution_count": 57,
   "metadata": {},
   "outputs": [
    {
     "name": "stdout",
     "output_type": "stream",
     "text": [
      "Apple\n",
      "Banana\n",
      "Kiwi\n",
      "Mango\n",
      "2\n",
      "4\n",
      "['Milk', 'Butter']\n",
      "2.3\n",
      "(4, 5)\n",
      "Samsung\n",
      "Apple inc.\n",
      "Amazon\n",
      "Walmart\n",
      "['Flipkart', 'Lenovo', 'Acer']\n"
     ]
    }
   ],
   "source": [
    "for a in list1:\n",
    "    print(a)"
   ]
  },
  {
   "cell_type": "markdown",
   "metadata": {},
   "source": [
    "Slicing in list"
   ]
  },
  {
   "cell_type": "code",
   "execution_count": 58,
   "metadata": {},
   "outputs": [
    {
     "name": "stdout",
     "output_type": "stream",
     "text": [
      "Apple\n",
      "Banana\n",
      "Kiwi\n",
      "Mango\n"
     ]
    }
   ],
   "source": [
    "for a in list1[:4]: #this will give elements till 4th element\n",
    "    print(a)"
   ]
  }
 ],
 "metadata": {
  "interpreter": {
   "hash": "2c4a0e462d5eb47ccb02ab75c092febb222556232e160fc793b5c239a0fdd870"
  },
  "kernelspec": {
   "display_name": "Python 3.10.0 64-bit",
   "language": "python",
   "name": "python3"
  },
  "language_info": {
   "codemirror_mode": {
    "name": "ipython",
    "version": 3
   },
   "file_extension": ".py",
   "mimetype": "text/x-python",
   "name": "python",
   "nbconvert_exporter": "python",
   "pygments_lexer": "ipython3",
   "version": "3.10.0"
  },
  "orig_nbformat": 4
 },
 "nbformat": 4,
 "nbformat_minor": 2
}
