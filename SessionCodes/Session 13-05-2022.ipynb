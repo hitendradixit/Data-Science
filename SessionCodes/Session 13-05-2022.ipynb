{
 "cells": [
  {
   "cell_type": "markdown",
   "metadata": {},
   "source": [
    "Set"
   ]
  },
  {
   "cell_type": "code",
   "execution_count": 5,
   "metadata": {},
   "outputs": [
    {
     "name": "stdout",
     "output_type": "stream",
     "text": [
      "{'Banana', 'Peach', 'Apple', 'Mango'}\n",
      "['Mango', 'Apple', 'Mango', 'Peach', 'banana']\n",
      "{'Kiwi', 'Banana', 'Peach', 'Mango', 'Apple'}\n"
     ]
    }
   ],
   "source": [
    "set1 = {\"Mango\", \"Apple\", \"Mango\", \"Peach\" , \"Banana\"}\n",
    "list1 = [\"Mango\", \"Apple\", \"Mango\", \"Peach\" , \"banana\"]\n",
    "print(set1)\n",
    "print(list1)\n",
    "set1.add(\"Kiwi\")\n",
    "print(set1)"
   ]
  },
  {
   "cell_type": "markdown",
   "metadata": {},
   "source": [
    "Dictionary"
   ]
  },
  {
   "cell_type": "code",
   "execution_count": 13,
   "metadata": {},
   "outputs": [
    {
     "name": "stdout",
     "output_type": "stream",
     "text": [
      "{'A': 'Apple', 'B': 'Banana', 'C': 'Cat', 'D': 'Drum'}\n",
      "{'A': 'Auckland', 'B': 'Banana', 'C': 'Cat', 'D': 'Drum'}\n",
      "Auckland\n",
      "{'B': 'Banana', 'C': 'Cat', 'D': 'Drum'}\n"
     ]
    }
   ],
   "source": [
    "dict1 = {\"A\":\"Apple\", \"B\":\"Banana\", \"C\": \"Cat\", \"D\": \"Drum\"}\n",
    "print(dict1) #we have to pass the key as the index to fetch the value\n",
    "dict1[\"A\"] = \"Auckland\"\n",
    "print(dict1)\n",
    "print(dict1.pop(\"A\")) #give key to pop out the element\n",
    "print(dict1)"
   ]
  },
  {
   "cell_type": "code",
   "execution_count": 16,
   "metadata": {},
   "outputs": [
    {
     "name": "stdout",
     "output_type": "stream",
     "text": [
      "Apple\n",
      "Banana\n",
      "Cat\n",
      "Drum\n"
     ]
    }
   ],
   "source": [
    "dict1 = {\"A\":\"Apple\", \"B\":\"Banana\", \"C\": \"Cat\", \"D\": \"Drum\"}\n",
    "for a in dict1: #here a will take key not the value\n",
    "    print(dict1[a])"
   ]
  },
  {
   "cell_type": "code",
   "execution_count": 17,
   "metadata": {},
   "outputs": [],
   "source": [
    "import numpy as np\n",
    "#if this throws error press \"Ctcl + `\" and write the follwoing command in the terminal\n",
    "#pip install numpy"
   ]
  },
  {
   "cell_type": "code",
   "execution_count": 30,
   "metadata": {},
   "outputs": [
    {
     "name": "stdout",
     "output_type": "stream",
     "text": [
      "[[1 3 5]\n",
      " [2 5 6]]\n",
      "[ 3  8 11]\n",
      "[ 9 13]\n"
     ]
    }
   ],
   "source": [
    "\n",
    "arr1 = np.array([[1,3,5],[2,5,6]])\n",
    "print(arr1)\n",
    "print(arr1.sum(axis = 0)) #axis = 0 will sum up column wise and axis = 1 will sum up row wise\n",
    "print(arr1.sum(axis = 1))\n"
   ]
  },
  {
   "cell_type": "code",
   "execution_count": 35,
   "metadata": {},
   "outputs": [
    {
     "name": "stdout",
     "output_type": "stream",
     "text": [
      "[[1 3 5]\n",
      " [2 5 6]]\n",
      "900\n"
     ]
    }
   ],
   "source": [
    "\n",
    "arr1 = np.array([[1,3,5],[2,5,6]])\n",
    "print(arr1)\n",
    "print(np.prod(arr1))"
   ]
  },
  {
   "cell_type": "code",
   "execution_count": 41,
   "metadata": {},
   "outputs": [
    {
     "data": {
      "text/plain": [
       "array([2, 5, 6, 8, 0])"
      ]
     },
     "execution_count": 41,
     "metadata": {},
     "output_type": "execute_result"
    }
   ],
   "source": [
    "arr2 = np.array([2, 5, 6, 8,9])\n",
    "arr3 = np.array([4, 7, 8, 99, 0])\n",
    "np.minimum(arr2, arr3) #compares column by column and give the minimum value from the column of 2 arrays\n"
   ]
  },
  {
   "cell_type": "code",
   "execution_count": 47,
   "metadata": {},
   "outputs": [
    {
     "name": "stdout",
     "output_type": "stream",
     "text": [
      "7.0\n"
     ]
    }
   ],
   "source": [
    "list1 = [1, 2, 4, 6, 7, 9, 10, 66, 88]\n",
    "arr2 = np.array(list1)\n",
    "print(np.median(arr2))"
   ]
  },
  {
   "cell_type": "code",
   "execution_count": 48,
   "metadata": {},
   "outputs": [
    {
     "name": "stdout",
     "output_type": "stream",
     "text": [
      "[  6  12  14 107   9]\n"
     ]
    }
   ],
   "source": [
    "arr2 = np.array([2, 5, 6, 8,9])\n",
    "arr3 = np.array([4, 7, 8, 99, 0])\n",
    "print(np.add(arr2,arr3))"
   ]
  },
  {
   "cell_type": "code",
   "execution_count": 51,
   "metadata": {},
   "outputs": [
    {
     "name": "stdout",
     "output_type": "stream",
     "text": [
      "[2 5 6 8 0]\n"
     ]
    }
   ],
   "source": [
    "arr2 = np.array([2, 5, 6, 8,90])\n",
    "arr3 = np.array([4, 7, 8, 99, 10])\n",
    "print(np.mod(arr2,arr3))"
   ]
  },
  {
   "cell_type": "code",
   "execution_count": 61,
   "metadata": {},
   "outputs": [
    {
     "name": "stdout",
     "output_type": "stream",
     "text": [
      "[False False False False  True  True]\n",
      "[False False False  True  True  True]\n",
      "[False False False  True False False]\n",
      "[False False False  True  True  True]\n",
      "[False False False  True  True  True]\n"
     ]
    }
   ],
   "source": [
    "arr2 = np.array([2, 5, 6, 7, 8,90])\n",
    "arr3 = np.array([4, 7, 8, 3, 1, 60])\n",
    "print(np.greater(arr2, 7))\n",
    "print(np.greater_equal(arr2, 7))\n",
    "print(np.equal(arr2, 7))\n",
    "print(np.greater(arr2, arr3))\n",
    "print(arr2 > arr3)"
   ]
  },
  {
   "cell_type": "code",
   "execution_count": 65,
   "metadata": {},
   "outputs": [
    {
     "name": "stdout",
     "output_type": "stream",
     "text": [
      "False\n",
      "True\n"
     ]
    }
   ],
   "source": [
    "arr2 = np.array([2, 5, 6, 7, 8,90])\n",
    "print(np.alltrue(np.greater(arr2,7)))\n",
    "print(np.sometrue(np.greater(arr2,7)))"
   ]
  },
  {
   "cell_type": "code",
   "execution_count": 68,
   "metadata": {},
   "outputs": [
    {
     "name": "stdout",
     "output_type": "stream",
     "text": [
      "[0.8188856  0.82033438 0.81153538]\n"
     ]
    }
   ],
   "source": [
    "arr4 = np.random.rand(3) #3 random numbers between 0 and 1\n",
    "print(arr4)"
   ]
  },
  {
   "cell_type": "code",
   "execution_count": 71,
   "metadata": {},
   "outputs": [
    {
     "name": "stdout",
     "output_type": "stream",
     "text": [
      "[[0.30720967 0.33681181 0.91904087]\n",
      " [0.81402555 0.35126215 0.66042777]\n",
      " [0.64255104 0.82018223 0.22350157]]\n"
     ]
    }
   ],
   "source": [
    "arr4 = np.random.rand(3,3) #3 x 3 matrix\n",
    "print(arr4)"
   ]
  },
  {
   "cell_type": "code",
   "execution_count": 115,
   "metadata": {},
   "outputs": [
    {
     "name": "stdout",
     "output_type": "stream",
     "text": [
      "[[0.65204926 0.84702561 0.14959814]\n",
      " [0.49129118 0.13894225 0.4159007 ]\n",
      " [0.29260123 0.34068357 0.23873631]]\n"
     ]
    }
   ],
   "source": [
    "arr4 = np.random.random((3,3)) #3 x 3 matrix\n",
    "print(arr4)"
   ]
  },
  {
   "cell_type": "code",
   "execution_count": 140,
   "metadata": {},
   "outputs": [
    {
     "name": "stdout",
     "output_type": "stream",
     "text": [
      "[[1 3 3 2]\n",
      " [2 3 2 1]\n",
      " [2 1 3 3]\n",
      " [1 2 3 1]]\n"
     ]
    }
   ],
   "source": [
    "arr4 = np.random.randint(1, 4 ,size = (4,4)) #3 x 3 matrix\n",
    "print(arr4)"
   ]
  },
  {
   "cell_type": "code",
   "execution_count": 143,
   "metadata": {},
   "outputs": [
    {
     "name": "stdout",
     "output_type": "stream",
     "text": [
      "[[0.09477734 0.84470306 0.22388457]\n",
      " [0.31365447 0.97152017 0.15464874]\n",
      " [0.88130054 0.85985698 0.08517187]]\n"
     ]
    }
   ],
   "source": [
    "arr4 = np.random.uniform(size = (3,3))\n",
    "print(arr4)"
   ]
  },
  {
   "cell_type": "code",
   "execution_count": 152,
   "metadata": {},
   "outputs": [
    {
     "name": "stdout",
     "output_type": "stream",
     "text": [
      "(12,)\n",
      "[[ 2  7  7  8 34 45]\n",
      " [56 12 13 14 15 16]]\n"
     ]
    }
   ],
   "source": [
    "arr5 = np.array([2,7,7,8,34,45,56,12,13,14,15,16])\n",
    "print(np.shape(arr5))\n",
    "print(np.reshape(arr5, (2,6)))"
   ]
  },
  {
   "cell_type": "code",
   "execution_count": 153,
   "metadata": {},
   "outputs": [],
   "source": [
    "arr6 = np.resize(arr5, (6,7))"
   ]
  },
  {
   "cell_type": "code",
   "execution_count": 154,
   "metadata": {},
   "outputs": [
    {
     "data": {
      "text/plain": [
       "array([[ 2,  7,  7,  8, 34, 45, 56],\n",
       "       [12, 13, 14, 15, 16,  2,  7],\n",
       "       [ 7,  8, 34, 45, 56, 12, 13],\n",
       "       [14, 15, 16,  2,  7,  7,  8],\n",
       "       [34, 45, 56, 12, 13, 14, 15],\n",
       "       [16,  2,  7,  7,  8, 34, 45]])"
      ]
     },
     "execution_count": 154,
     "metadata": {},
     "output_type": "execute_result"
    }
   ],
   "source": [
    "arr6"
   ]
  },
  {
   "cell_type": "code",
   "execution_count": 156,
   "metadata": {},
   "outputs": [],
   "source": [
    "arr5 = np.reshape(arr5, (2,6))"
   ]
  },
  {
   "cell_type": "code",
   "execution_count": 159,
   "metadata": {},
   "outputs": [
    {
     "name": "stdout",
     "output_type": "stream",
     "text": [
      "[[ 2  7  7  8 34 45]\n",
      " [56 12 13 14 15 16]]\n",
      "The transpose of array\n",
      "[[ 2 56]\n",
      " [ 7 12]\n",
      " [ 7 13]\n",
      " [ 8 14]\n",
      " [34 15]\n",
      " [45 16]]\n"
     ]
    }
   ],
   "source": [
    "print(arr5)\n",
    "print(\"The transpose of array\")\n",
    "print(np.transpose(arr5))"
   ]
  },
  {
   "cell_type": "code",
   "execution_count": 166,
   "metadata": {},
   "outputs": [
    {
     "name": "stdout",
     "output_type": "stream",
     "text": [
      "[[12 14 15 16]\n",
      " [ 3  5  7  8]\n",
      " [ 5  7  9 10]]\n",
      "[12 14 15 16  3  5  7  8  5  7  9 10]\n"
     ]
    }
   ],
   "source": [
    "arr5 = np.array([[12, 14, 15, 16], [3, 5, 7, 8], [5, 7, 9, 10]])\n",
    "print(arr5)\n",
    "print(arr5.flatten())"
   ]
  },
  {
   "cell_type": "code",
   "execution_count": 172,
   "metadata": {},
   "outputs": [
    {
     "data": {
      "text/plain": [
       "array([ 2,  5,  6,  7,  8, 90,  4,  7,  8,  3,  1, 60])"
      ]
     },
     "execution_count": 172,
     "metadata": {},
     "output_type": "execute_result"
    }
   ],
   "source": [
    "arr2 = np.array([2, 5, 6, 7, 8,90])\n",
    "arr3 = np.array([4, 7, 8, 3, 1, 60])\n",
    "np.concatenate((arr2,arr3), axis = 0)"
   ]
  }
 ],
 "metadata": {
  "interpreter": {
   "hash": "2c4a0e462d5eb47ccb02ab75c092febb222556232e160fc793b5c239a0fdd870"
  },
  "kernelspec": {
   "display_name": "Python 3.10.0 64-bit",
   "language": "python",
   "name": "python3"
  },
  "language_info": {
   "codemirror_mode": {
    "name": "ipython",
    "version": 3
   },
   "file_extension": ".py",
   "mimetype": "text/x-python",
   "name": "python",
   "nbconvert_exporter": "python",
   "pygments_lexer": "ipython3",
   "version": "3.10.0"
  },
  "orig_nbformat": 4
 },
 "nbformat": 4,
 "nbformat_minor": 2
}
