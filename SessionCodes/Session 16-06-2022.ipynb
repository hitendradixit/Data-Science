{
 "cells": [
  {
   "cell_type": "markdown",
   "metadata": {},
   "source": [
    "Inferential Statistics"
   ]
  },
  {
   "cell_type": "markdown",
   "metadata": {},
   "source": [
    "Types of Inferntial Statistics\n",
    "1. Hypothesis Testing\n",
    "2. Regression Analysis"
   ]
  },
  {
   "cell_type": "markdown",
   "metadata": {},
   "source": [
    "Companies - \n",
    "1. ABC -> G, B -> \n",
    "2. PQR -> G, B -> \n",
    "3. XYZ -> G, B ->  \n",
    "4. LMN -> G, B ->  \n",
    "5. HIJ -> G, B ->  "
   ]
  },
  {
   "cell_type": "markdown",
   "metadata": {},
   "source": [
    "DS Field will have following exp-\n",
    "1. Fresher\n",
    "2. Upto 2 years\n",
    "3. upto 4 years\n",
    "4. Upto 6 years\n",
    "5. More than 6 years"
   ]
  },
  {
   "cell_type": "markdown",
   "metadata": {},
   "source": [
    "(Model 1)I am taking 100 prof. from Bengaluru only, Out of which\n",
    "1. 20 will be freshers (Sal- 6LPA)\n",
    "2. 20 will be experienced Upto 2 years (Sal- 10LPA)\n",
    "3. 20 will be experienced Upto 4 years (Sal- 16LPA)\n",
    "4. 20 will be experienced Upto 6 years (Sal- 26LPA)\n",
    "5. 20 will be experienced more than 6 years (Sal- 40LPA)"
   ]
  },
  {
   "cell_type": "markdown",
   "metadata": {},
   "source": [
    "(Model 2) Representing Whole India - \n",
    "1. 100 DS from Gurugram \n",
    "2. 100 DS from Bengaluru\n",
    "3. 100 DS from Hyderabad\n",
    "4. 100 DS from Noida\n",
    "5. 100 DS from Pune"
   ]
  },
  {
   "cell_type": "markdown",
   "metadata": {},
   "source": [
    "Sample Distribution will approach a ND with variance equal to = std. dev./sqrt(sample size)"
   ]
  }
 ],
 "metadata": {
  "kernelspec": {
   "display_name": "Python 3.10.0 64-bit",
   "language": "python",
   "name": "python3"
  },
  "language_info": {
   "codemirror_mode": {
    "name": "ipython",
    "version": 3
   },
   "file_extension": ".py",
   "mimetype": "text/x-python",
   "name": "python",
   "nbconvert_exporter": "python",
   "pygments_lexer": "ipython3",
   "version": "3.10.0"
  },
  "orig_nbformat": 4,
  "vscode": {
   "interpreter": {
    "hash": "2c4a0e462d5eb47ccb02ab75c092febb222556232e160fc793b5c239a0fdd870"
   }
  }
 },
 "nbformat": 4,
 "nbformat_minor": 2
}
