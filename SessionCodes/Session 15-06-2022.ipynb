{
 "cells": [
  {
   "cell_type": "markdown",
   "metadata": {},
   "source": [
    "Types of Kurtosis- \n",
    "1. Positive Kurtosis(Leptokurtic) -> Kurtosis Greater than normal distribution\n",
    "2. Negative Kurtosis(Platykurtic) -> Kurtosis less than Normal Distribution\n",
    "3. Mesokurtic -> Kurtosis same as Normal Distribution"
   ]
  },
  {
   "cell_type": "markdown",
   "metadata": {},
   "source": [
    "Excess Kurtosis = Kurtosis - 3"
   ]
  },
  {
   "cell_type": "markdown",
   "metadata": {},
   "source": [
    "1. LeptoKurtic - kurtosis > 3"
   ]
  },
  {
   "cell_type": "code",
   "execution_count": 7,
   "metadata": {},
   "outputs": [],
   "source": [
    "from scipy.stats import skew, kurtosis"
   ]
  },
  {
   "cell_type": "code",
   "execution_count": 6,
   "metadata": {},
   "outputs": [
    {
     "name": "stdout",
     "output_type": "stream",
     "text": [
      "0.9064461387548666\n"
     ]
    }
   ],
   "source": [
    "dataset = [10, 25, 14, 26, 35, 45, 67, 90, 40, 50, 60, 10, 16, 18, 20]\n",
    "#calculating the skewness\n",
    "print(skew(dataset, axis = 0, bias = True))"
   ]
  },
  {
   "cell_type": "code",
   "execution_count": 8,
   "metadata": {},
   "outputs": [
    {
     "name": "stdout",
     "output_type": "stream",
     "text": [
      "-0.05281076796516482\n"
     ]
    }
   ],
   "source": [
    "dataset = [10, 25, 14, 26, 35, 45, 67, 90, 40, 50, 60, 10, 16, 18, 20]\n",
    "#calculating the kurtosis\n",
    "print(kurtosis(dataset, axis = 0, bias = True))"
   ]
  },
  {
   "cell_type": "code",
   "execution_count": 11,
   "metadata": {},
   "outputs": [
    {
     "name": "stdout",
     "output_type": "stream",
     "text": [
      "2.0453729382893178\n"
     ]
    }
   ],
   "source": [
    "dataset2 = [55, 78, 65, 98, 97, 60, 67, 65, 83, 65]\n",
    "print(kurtosis(dataset2, fisher= False))"
   ]
  },
  {
   "cell_type": "code",
   "execution_count": 12,
   "metadata": {},
   "outputs": [],
   "source": [
    "import numpy as np\n",
    "import pylab as p"
   ]
  },
  {
   "cell_type": "code",
   "execution_count": 21,
   "metadata": {},
   "outputs": [
    {
     "name": "stdout",
     "output_type": "stream",
     "text": [
      "Kurtosis of normal distribution is: -0.3073930877422071\n",
      "Kurtosis of normal distribution when fisher is False is: 2.692606912257793\n",
      "Kurtosis of normal distribution when fisher is True is: -0.3073930877422071\n"
     ]
    },
    {
     "data": {
      "image/png": "[encoded data removed]",
      "text/plain": [
       "<Figure size 432x288 with 1 Axes>"
      ]
     },
     "metadata": {
      "needs_background": "light"
     },
     "output_type": "display_data"
    }
   ],
   "source": [
    "x1 = np.linspace(-5, 5, 1000)\n",
    "y1 = 1./(np.sqrt(2.*np.pi)) * np.exp( -.5*(x1)**2  )\n",
    "p.plot(x1, y1)\n",
    "print(f\"Kurtosis of normal distribution is: {kurtosis(y1)}\")\n",
    "print(f\"Kurtosis of normal distribution when fisher is False is: {kurtosis(y1, fisher = False)}\")\n",
    "print(f\"Kurtosis of normal distribution when fisher is True is: {kurtosis(y1, fisher = True)}\")"
   ]
  },
  {
   "cell_type": "markdown",
   "metadata": {},
   "source": [
    "Types of Inferntial Statistics\n",
    "1. Hypothesis Testing\n",
    "2. Regression Analysis"
   ]
  }
 ],
 "metadata": {
  "kernelspec": {
   "display_name": "Python 3.10.0 64-bit",
   "language": "python",
   "name": "python3"
  },
  "language_info": {
   "codemirror_mode": {
    "name": "ipython",
    "version": 3
   },
   "file_extension": ".py",
   "mimetype": "text/x-python",
   "name": "python",
   "nbconvert_exporter": "python",
   "pygments_lexer": "ipython3",
   "version": "3.10.0"
  },
  "orig_nbformat": 4,
  "vscode": {
   "interpreter": {
    "hash": "2c4a0e462d5eb47ccb02ab75c092febb222556232e160fc793b5c239a0fdd870"
   }
  }
 },
 "nbformat": 4,
 "nbformat_minor": 2
}
